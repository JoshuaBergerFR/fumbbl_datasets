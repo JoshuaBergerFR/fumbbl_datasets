{
 "cells": [
  {
   "cell_type": "markdown",
   "metadata": {},
   "source": [
    "# FUMBBL data report\n",
    "\n",
    "Report a few analyses. with types of matches etc, star player usage etc. \n",
    "\n"
   ]
  },
  {
   "cell_type": "markdown",
   "metadata": {},
   "source": [
    "## Read the FUMBBL data"
   ]
  },
  {
   "cell_type": "code",
   "execution_count": null,
   "metadata": {},
   "outputs": [],
   "source": [
    "import pandas as pd\n",
    "import numpy as np\n",
    "import plotnine as p9\n",
    "\n",
    "from mizani.formatters import date_format\n",
    "\n",
    "# point this to the location of the HDF5 datasets\n",
    "path_to_datasets = '../datasets/v0.8/'\n",
    "\n",
    "# FUMBBL matches\n",
    "target = 'df_matches.csv'\n",
    "df_matches = pd.read_csv(path_to_datasets + target) \n",
    "\n",
    "# FUMBBL matches by team\n",
    "target = 'df_mbt.csv'\n",
    "df_mbt = pd.read_csv(path_to_datasets + target) # first column is row_index PM FIX\n",
    "\n",
    "# FUMBBL inducements\n",
    "target = 'inducements.csv'\n",
    "inducements = pd.read_csv(path_to_datasets + target) \n",
    "\n",
    "pd.set_option('display.max_rows', 500)\n",
    "pd.set_option('display.max_columns', 500)\n"
   ]
  },
  {
   "cell_type": "markdown",
   "metadata": {},
   "source": [
    "# Fix and enrich data"
   ]
  },
  {
   "cell_type": "code",
   "execution_count": null,
   "metadata": {},
   "outputs": [],
   "source": [
    "# FUMBBL quartely volumes\n",
    "target = 'fumbbl_match_counts.csv'\n",
    "fumbbl_volumes = pd.read_csv(target, sep = ';') \n",
    "fumbbl_volumes['quarter_date'] = fumbbl_volumes['year'].astype(str) + '-Q' + fumbbl_volumes['quarter'].astype(str)\n",
    "fumbbl_volumes['quarter_date'] = pd.to_datetime(fumbbl_volumes['quarter_date'])"
   ]
  },
  {
   "cell_type": "code",
   "execution_count": null,
   "metadata": {},
   "outputs": [],
   "source": [
    "df_matches['match_date'] = pd.to_datetime(df_matches['match_date'])\n",
    "df_matches['week_date'] = pd.to_datetime(df_matches['week_date'])\n",
    "\n",
    "\n",
    "df_matches['quarter'] = df_matches['match_date'].dt.to_period('Q')\n",
    "df_matches['month'] = df_matches['match_date'].dt.to_period('M')\n",
    "df_matches['quarter_date'] = pd.PeriodIndex(df_matches['quarter'] , freq='Q').to_timestamp()\n",
    "df_matches['month_date'] = pd.PeriodIndex(df_matches['month'] , freq='M').to_timestamp()\n",
    "\n",
    "df_matches.loc[df_matches['scheduler'].str.contains(\"Blackbox\", na=False), 'division_name'] = 'Blackbox'\n",
    "\n",
    "df_matches['cr_diff2_bin'] = pd.cut(df_matches['cr_diff2'], bins = [-1*float(\"inf\"), -30, -20, -10, -5, 5, 10, 20, 30, float(\"inf\")], \n",
    " labels=['{-Inf,-30]', '[-30,-20]', '[-20,-10]', '[-10,-5]', '[-5,5]', '[5,10]', '[10,20]', '[20,30]', '[30,Inf]']) \n",
    "\n",
    "df_mbt['match_date'] = pd.to_datetime(df_mbt['match_date'])\n",
    "df_mbt['quarter'] = df_mbt['match_date'].dt.to_period('Q')\n",
    "df_mbt['month'] = df_mbt['match_date'].dt.to_period('M')\n",
    "df_mbt['quarter_date'] = pd.PeriodIndex(df_mbt['quarter'] , freq='Q').to_timestamp()\n",
    "df_mbt['month_date'] = pd.PeriodIndex(df_mbt['month'] , freq='M').to_timestamp()"
   ]
  },
  {
   "cell_type": "code",
   "execution_count": null,
   "metadata": {},
   "outputs": [],
   "source": [
    "# draw 10 random matches from blackbox and competitive in july 2024\n",
    "divisions = ['Blackbox', 'Competitive']\n",
    "\n",
    "match_ids = df_matches.query('month_date == \"2024-07-01\" & division_name in @divisions')['match_id'].tolist()\n",
    "import random\n",
    "\n",
    "random.seed(12345)\n",
    "             \n",
    "test_id = random.sample(match_ids, 1)\n",
    "\n",
    "#match_ids\n",
    "\n",
    "inducements.query('match_id == @test_id')\n"
   ]
  },
  {
   "cell_type": "code",
   "execution_count": null,
   "metadata": {},
   "outputs": [],
   "source": [
    "df_matches.query('match_id == @test_id').iloc[0]"
   ]
  },
  {
   "cell_type": "markdown",
   "metadata": {},
   "source": [
    "# What data do we have? Weekly game volumes\n",
    "\n",
    "\n",
    "Let's see what we've got! The pandas DataFrame `df_matches` contains records for all matches played on FUMBBL from august 2020 onwards.\n",
    "\n",
    "Since we have a proper `datetime` type variable for each week (`week_date`), we can use `pandas` and `plotnine` to plot the weekly game volume as a time series.\n",
    "\n",
    "The introduction of the new **Competitive division** with BB2020 rules is marked by a vertical red line. Also the World cup in Alicante is marked."
   ]
  },
  {
   "cell_type": "code",
   "execution_count": null,
   "metadata": {},
   "outputs": [],
   "source": [
    "res = (df_matches\n",
    "    .loc[(df_matches['week_date'] >= '2020-08-01' ) & (df_matches['week_date'] < '2025-03-25')]\n",
    "    .groupby(['quarter_date']) #  'division_name'\n",
    "    .agg(        \n",
    "        n_games_api = ('match_id', \"count\") \n",
    "    )\n",
    "    .reset_index()) # this adds the \"group by\" variables back as columns of res\n",
    "\n",
    "res = fumbbl_volumes.merge(res, how = 'right', on = 'quarter_date')\n",
    "\n",
    "(p9.ggplot(data = res, mapping = p9.aes(x = 'quarter_date', y = 'n_games'))\n",
    "+ p9.geom_point(size = 3) \n",
    "+ p9.geom_point(mapping = p9.aes(y = 'n_games_api'), color = \"red\")\n",
    "+ p9.geom_line()\n",
    "+ p9.expand_limits(y=[0,2000])\n",
    "+ p9.geom_vline(xintercept = '2021-09-01', color = \"red\") # BB2020 ruleset on FUMBBL\n",
    "+ p9.geom_vline(xintercept = '2023-09-07', color = \"red\") # world cup\n",
    "+ p9.theme(figure_size = (10, 5))\n",
    "+ p9.ggtitle(\"quartely game volume on FUMBBL since august 2020\"))"
   ]
  },
  {
   "cell_type": "markdown",
   "metadata": {},
   "source": [
    "next go to divisions, go to weekly resolution. Competitive, Blackbox, \"Other\".\n",
    "Ranked changed to Competitive. \n",
    "\n",
    "\n",
    "The blackbox trophy (BBT) is a lengthy competitive division meta event. Coaches select a squad of 4 unique teams with a budget of 7 points.\n",
    "\n",
    "Blackbox (BBT 1-5) was off during july 2021/juli 2022.\n",
    "Season 6 started in August 2022."
   ]
  },
  {
   "cell_type": "code",
   "execution_count": null,
   "metadata": {},
   "outputs": [],
   "source": [
    "res = (df_matches\n",
    "    .loc[(df_matches['week_date'] >= '2020-08-01' ) & (df_matches['week_date'] < '2025-03-25')]\n",
    "    .groupby(['week_date', 'division_name', 'division_id']) #  'division_name'\n",
    "    .agg(        \n",
    "        n_games_api = ('match_id', \"count\") \n",
    "    )\n",
    "    .reset_index()) # this adds the \"group by\" variables back as columns of res\n",
    "\n",
    "(p9.ggplot(data = res, mapping = p9.aes(x = 'week_date', y = 'n_games_api', color = 'division_name'))\n",
    "+ p9.geom_point(size = 3) \n",
    "+ p9.geom_line()\n",
    "+ p9.expand_limits(y=[0,2000])\n",
    "+ p9.geom_vline(xintercept = '2021-09-01', color = \"red\")\n",
    "+ p9.geom_vline(xintercept = '2023-09-07', color = \"black\") # world cup\n",
    "+ p9.theme(figure_size = (10, 5))\n",
    "+ p9.ggtitle(\"quartely game volume on FUMBBL august 2020 - august 2024\"))"
   ]
  },
  {
   "cell_type": "code",
   "execution_count": null,
   "metadata": {},
   "outputs": [],
   "source": [
    "res"
   ]
  },
  {
   "cell_type": "markdown",
   "metadata": {},
   "source": [
    "# Star player usage over time \n",
    "\n"
   ]
  },
  {
   "cell_type": "code",
   "execution_count": null,
   "metadata": {},
   "outputs": [],
   "source": [
    "divisions = ['Blackbox', 'Competitive', 'Ranked', 'League']\n",
    "\n",
    "res = (df_matches\n",
    ".query(\"division_name in @divisions\")\n",
    ".groupby(['week_date'])\n",
    ".agg(\n",
    "    n_games = ('match_id', 'count'),\n",
    "    perc_sp = ('has_sp', 'mean')\n",
    ")\n",
    ".reset_index()\n",
    ".sort_values(\"week_date\", ascending=False)\n",
    ")\n",
    "# 'division_name', \n",
    "(p9.ggplot(data = res.query(\"n_games > 30\"), mapping = p9.aes(x = 'week_date', y = 'perc_sp*100'))#, \n",
    "#group = 'factor(division_name)', color = 'factor(division_name)'))\n",
    "    + p9.geom_point(p9.aes(size = 'n_games')) \n",
    "    + p9.expand_limits(y=[0,1])\n",
    "    + p9.scale_size_area()\n",
    "    + p9.geom_vline(xintercept = '2021-09-01', color = \"red\")\n",
    "    + p9.geom_vline(xintercept = '2022-08-01', color = \"black\") # BBT6\n",
    "    + p9.geom_vline(xintercept = '2023-01-01', color = \"black\")\n",
    "    + p9.geom_vline(xintercept = '2023-05-01', color = \"black\")\n",
    "    + p9.geom_vline(xintercept = '2023-09-01', color = \"black\")\n",
    "    + p9.geom_vline(xintercept = '2024-01-01', color = \"black\")\n",
    "    + p9.geom_vline(xintercept = '2024-05-01', color = \"black\") # BBT11\n",
    "    + p9.geom_vline(xintercept = '2024-09-01', color = \"black\") # BBT12\n",
    "    + p9.geom_vline(xintercept = '2025-01-01', color = \"black\") # BBT13\n",
    "    + p9.ggtitle(\"Star player usage over time\")\n",
    "    + p9.theme(figure_size = (10, 6))\n",
    "    + p9.ylab(\"% matches with at least one Star Player\"))"
   ]
  },
  {
   "cell_type": "markdown",
   "metadata": {},
   "source": [
    "# Star Players\n",
    "\n",
    "So on a weekly basis 20-25% of matches is with one or more star players.\n",
    "With a weekly volume of 1000-2000 this means roughly 200 star players a week. \n",
    "We also have the teams: divide by 30. Around 10 per team per week."
   ]
  },
  {
   "cell_type": "code",
   "execution_count": null,
   "metadata": {},
   "outputs": [],
   "source": [
    "(inducements\n",
    ".query('star_player == 1')\n",
    ".groupby('inducements')\n",
    ".agg( n_teams = ('star_player', 'count'))\n",
    ".reset_index()\n",
    ".sort_values(\"n_teams\", ascending=False)\n",
    ")[0:15]"
   ]
  },
  {
   "cell_type": "markdown",
   "metadata": {},
   "source": [
    "# Are coach ratings predictive of match outcomes?\n",
    "\n",
    "For the main divisions on FUMBBL, ELO style coach ratings are available that are updated after each game.\n",
    "The coach rankings are explained on [this help page](https://fumbbl.com/help:Ranking).\n",
    "\n",
    "According to the ELO ranking system, a coach rating difference of 40 should result in 85% wins for the higher ranked coach.\n",
    "Coaches of equal rating should have a win rate of 0.5 (with draws weighted at half point).\n",
    "\n",
    "The range of coach rankings observed for a particular game tells us something about the relationship between skill and luck.\n",
    "If a game is pure luck, we will never observe large differences in coach rating, since the outcome will be determined by a coin flip, independent of coach skill. \n",
    "\n",
    "On FUMBBL, coach ratings vary roughly between 125 and 175. What do we expect if a coach with a rating of 175 plays a coach of rating 145? Well, the rating difference is 30. According to the formula (assuming equal team strength and equal races), the expected win probability is 1/(1 + 10^0.75) = 85%, and the probability of loss is 15%.\n",
    "\n",
    "Since our CR we obtained from the FUMBBL match result page is an overall coach rating (i.e. it ignores division), we can simply pool all matches from divisions where coach rating is tracked.\n",
    "\n",
    "The match data contains a **Coach Ranking Difference** bin (category) that we can each to calculate the Win/draw/loss percentages for each category.\n",
    "\n",
    "Let's see what the actual percentages are:"
   ]
  },
  {
   "cell_type": "code",
   "execution_count": null,
   "metadata": {},
   "outputs": [],
   "source": [
    "main_divisions = ['Blackbox', 'Ranked', 'Competitive']\n",
    "\n",
    "res = (df_matches[df_matches['division_name'].isin(main_divisions)]\n",
    "    .query('match_date < \"2024-03-28\"') # has a clear effect, new CR less predictive?\n",
    "    .groupby(['cr_diff2_bin', 'team1_win'])\n",
    "    .agg(        \n",
    "        n_games = ('cr_diff2_bin', \"count\"),\n",
    "    )\n",
    "    .sort_values(by=['cr_diff2_bin'])\n",
    "    .reset_index()) # this adds the group by variable (now index) as a column\n",
    "\n",
    "# add total games played within each bin\n",
    "res['n_games_bin'] = res.groupby('cr_diff2_bin').n_games.transform('sum')\n",
    "\n",
    "res['perc'] = res['n_games']/res['n_games_bin']\n",
    "\n",
    "(p9.ggplot(res, p9.aes(x = 'factor(cr_diff2_bin)', y = 'perc', fill = 'factor(team1_win)')) \n",
    "    + p9.geom_bar(position = \"fill\", stat = \"identity\") \n",
    "    + p9.theme(axis_text_x= p9.element_text(rotation=90, hjust=1))\n",
    "    + p9.ggtitle('probability of win/draw/loss as a function of Coach Rating difference')\n",
    ")"
   ]
  },
  {
   "cell_type": "code",
   "execution_count": null,
   "metadata": {},
   "outputs": [],
   "source": [
    "main_divisions = ['Blackbox',  'Competitive']\n",
    "\n",
    "df_matches[\"month_date_Cat\"] = df_matches[\"month_date\"].astype(\"category\").astype(\"string\") # work around 2 bugs in plotnine\n",
    "\n",
    "res = (df_matches[df_matches['division_name'].isin(main_divisions)]\n",
    "    .query('match_date > \"2021-12-31\" & match_date < \"2022-09-01\"') # has a clear effect, new CR less predictive?\n",
    "    .groupby(['division_name', 'month_date_Cat', 'cr_diff2_bin'])\n",
    "    .agg(        \n",
    "        n_games = ('cr_diff2_bin', \"count\"),\n",
    "    )\n",
    "    .sort_values(by=['month_date_Cat'])\n",
    "    .reset_index()) # this adds the group by variable (now index) as a column\n",
    "\n",
    "\n",
    "(p9.ggplot(res, p9.aes(x = 'factor(cr_diff2_bin)', y = 'n_games', group = 'factor(division_name)', fill = 'factor(division_name)')) \n",
    "    + p9.geom_bar(stat = 'identity', position = 'dodge')\n",
    "    + p9.facet_wrap('month_date_Cat', ncol = 4)\n",
    "    + p9.theme(axis_text_x= p9.element_text(rotation=90, hjust=1))\n",
    "    + p9.ggtitle('dist of matches by Coach Rating difference')\n",
    ")"
   ]
  },
  {
   "cell_type": "code",
   "execution_count": null,
   "metadata": {},
   "outputs": [],
   "source": [
    "(df_matches.query('month_date == \"2022-05-01\" & cr_diff2_bin == \"[-5,5]\"')\n",
    "            .filter([ 'match_id', 'team1_coach_id', 'coach1_ranking', 'coach2_ranking', 'cr_diff2_bin'])\n",
    " ) # expect these CRS to have been changed now"
   ]
  },
  {
   "cell_type": "code",
   "execution_count": null,
   "metadata": {},
   "outputs": [],
   "source": [
    "# Volkajo & cr_diff2_bin == \"[30,Inf]\"\n",
    "\n",
    "(df_matches.query('month_date in [\"2022-05-01\", \"2022-06-01\"]   & team1_coach_id == 34520')\n",
    "            .filter([ 'match_id', 'match_date', 'coach1_ranking', 'coach2_ranking', 'division_name', 'cr_diff2_bin'])\n",
    " ) # expect these CRS to have been changed now"
   ]
  },
  {
   "cell_type": "code",
   "execution_count": null,
   "metadata": {},
   "outputs": [],
   "source": [
    "df_mbt.query('match_id == 4380230')"
   ]
  },
  {
   "cell_type": "markdown",
   "metadata": {},
   "source": [
    "start checking change in CR. plot CR for indiv coaches. add coach name CR to df_mbt. also add legend etc categories."
   ]
  },
  {
   "cell_type": "markdown",
   "metadata": {},
   "source": [
    "# which race scores the most touchdowns and have them scored against them"
   ]
  },
  {
   "cell_type": "code",
   "execution_count": null,
   "metadata": {},
   "outputs": [],
   "source": [
    "divisions = ['Competitive']\n",
    "\n",
    "tv_bins = ['1.1M', '1.4M', '1.7M']\n",
    "\n",
    "res = (df_mbt[df_mbt['division_name'].isin(divisions)]\n",
    "    .loc[df_mbt['tv_bin'].isin(tv_bins)]\n",
    "    .query(\"mirror_match == 0 & has_sp == 0 & tv_bin in @tv_bins & division_name in @divisions\")\n",
    "    .groupby(['race_name', 'tv_bin'])\n",
    "    .agg(        \n",
    "        avg_td = ('team_score', \"mean\"),\n",
    "        avg_away_td = ('away_team_score', \"mean\"),\n",
    "        n_games = ('race_name', \"count\")\n",
    "    )\n",
    "    .sort_values( 'n_games', ascending = False)\n",
    "    .reset_index()) # this adds the group by variables (now index) as a column\n",
    "\n",
    "res = res.dropna()\n",
    "\n",
    "(p9.ggplot(data = res.query('n_games > 100'), \n",
    "            mapping = p9.aes(y = 'reorder(race_name, avg_away_td)', x = 'avg_away_td', \n",
    "                            size = 'n_games', group = 'factor(tv_bin)', \n",
    "                            color = 'factor(tv_bin)'))\n",
    "    + p9.geom_point()\n",
    "    + p9.scale_size_area() \n",
    "    + p9.ggtitle(\"Competitive Division: average TD against per game\"))"
   ]
  },
  {
   "cell_type": "code",
   "execution_count": null,
   "metadata": {},
   "outputs": [],
   "source": [
    "(p9.ggplot(data = res.query('n_games > 100'), \n",
    "            mapping = p9.aes(y = 'reorder(race_name, avg_td)', x = 'avg_td', \n",
    "                            size = 'n_games', group = 'factor(tv_bin)', \n",
    "                            color = 'factor(tv_bin)'))\n",
    "    + p9.geom_point()\n",
    "    + p9.scale_size_area() \n",
    "    + p9.ggtitle(\"Competitive Division: average TD per game\"))"
   ]
  },
  {
   "cell_type": "markdown",
   "metadata": {},
   "source": [
    "# Top star players ranking"
   ]
  },
  {
   "cell_type": "code",
   "execution_count": null,
   "metadata": {},
   "outputs": [],
   "source": [
    "# top  star players in BB2020\n",
    "divisions = ['Blackbox', 'Competitive']\n",
    "period_range = pd.to_datetime([\"2024-09-01\", \"2024-08-01\", \"2024-07-01\"]) #Q3 2024\n",
    "period_range = pd.to_datetime([\"2024-10-01\", \"2024-11-01\", \"2024-12-01\"]) #Q4 2024\n",
    "\n",
    "# roll inducements up to Q3 by race_name\n",
    "sp_count = (inducements\n",
    ".merge(df_mbt[['match_id', 'division_name', 'race_name', 'month_date', 'tv_diff', 'team']], how='left', on=['match_id', 'team']) # add racename to inducements\n",
    ".query(\"star_player == 1 and division_name in @divisions & month_date in @period_range\") # filter \n",
    ".assign(Name = lambda x:x['inducements'].str.replace(r'Star player ', '', regex=True))\n",
    ".groupby(['Name', 'race_name'])\n",
    ".agg(\n",
    "    n_games = ('match_id', 'count'),\n",
    "    med_tv_diff = ('tv_diff', 'median')  \n",
    ")\n",
    ".reset_index() # remove grouping structure\n",
    ".sort_values('n_games',ascending = False)\n",
    ".groupby(['Name'])\n",
    ".agg(\n",
    "    n_games_tot = ('n_games', 'sum'),\n",
    "    n_races = ('race_name', 'nunique'),\n",
    "    med_tv_diff = ('med_tv_diff', 'median'),\n",
    "    highest_race = ('race_name', lambda x: x.head(1)),\n",
    "    highest_games = ('n_games', 'max')\n",
    "\n",
    ")\n",
    ".reset_index() # remove grouping structure\n",
    ".assign(rank = lambda x:x['n_games_tot'].rank(method = 'first', ascending = False))\n",
    ".sort_values('rank',ascending = True)\n",
    ".query('rank < 11')\n",
    ")\n",
    "\n",
    "sp_count[['rank', 'Name', 'n_games_tot', 'n_races']]"
   ]
  },
  {
   "cell_type": "code",
   "execution_count": null,
   "metadata": {},
   "outputs": [],
   "source": [
    "divisions = ['Blackbox', 'Competitive']\n",
    "period_range = pd.to_datetime([\"2024-09-01\", \"2024-08-01\", \"2024-07-01\"]) #Q3 2024\n",
    "#period_range = [\"2024-07-01\"] #first FB post\n",
    "res = (df_matches\n",
    ".query(\"division_name in @divisions & month_date in @period_range\")\n",
    ".assign(period = 'Q3')\n",
    ".groupby(['period'])\n",
    ".agg(\n",
    "    n_games = ('match_id', 'count'),\n",
    "    perc_sp = ('has_sp', 'mean'),\n",
    "    n_sp = ('has_sp', 'sum'),\n",
    ")\n",
    ".reset_index()\n",
    "#.sort_values(\"month_date\", ascending=False)\n",
    ")\n",
    "res"
   ]
  },
  {
   "cell_type": "markdown",
   "metadata": {},
   "source": [
    "Update on which Star Players are popular choices to induce.\n",
    "\n",
    "In the third quarter of 2024, 18108 games of Blood Bowl were played online on FUMBBL (https://fumbbl.com). \n",
    "\n",
    "Of these, 10098 games were played in the Competitive and Black Box divisions.\n",
    "In 15% of these games, at least one star player was induced. These were the top 10 star players induced.\n",
    "\n",
    "    Name              n_games n_diff_races\n",
    "1.\tFungus the Loon\t      375\t       9\n",
    "2.\tAkhorne the Squirrel\t291\t      28\n",
    "3.\tHelmut Wulf\t          140\t      27\n",
    "4.\tSkitter Stab-Stab\t     94\t      10\n",
    "5.\tRodney Roachbait\t     91\t       2\n",
    "6.\tVarag Ghoul-Chewer\t   90\t       8\n",
    "7.\tPuggy Baconbreath\t     78\t       8\n",
    "8.\tNobbla Blackwart\t     77\t       8\n",
    "9.\tRumbelow Sheepskin\t   52\t       8\n",
    "10.\tMighty Zug\t           46\t       9\n",
    "\n",
    "The third column counts by how many different teams the Star Player was induced.\n",
    "Rodney Roachbait for example was only induced by two different team races (Gnomes and Halflings)."
   ]
  },
  {
   "cell_type": "markdown",
   "metadata": {},
   "source": [
    "# BB2020 game volume by race"
   ]
  },
  {
   "cell_type": "code",
   "execution_count": null,
   "metadata": {},
   "outputs": [],
   "source": [
    "# top 26 most popular races in FUMBBL BB2020\n",
    "top10 = (df_mbt\n",
    ".query(\"division_name == 'Competitive'\") # filter \n",
    ".groupby(['race_name'])\n",
    ".agg(\n",
    "    n_games = ('match_id', 'count')\n",
    ")\n",
    ".reset_index()\n",
    ".sort_values('n_games',ascending = False)\n",
    ".head(30)['race_name'])\n",
    "\n",
    "\n",
    "\n",
    "divisions = [ 'Competitive']\n",
    "\n",
    "res = (df_mbt\n",
    ".query(\"division_name in @divisions and race_name in @top10\")\n",
    ".groupby(['division_name', 'race_name', 'week_date'])\n",
    ".agg(\n",
    "    n_games = ('match_id', 'count')\n",
    ")\n",
    ".reset_index()\n",
    ".sort_values(\"n_games\", ascending=False)\n",
    ")\n",
    "\n",
    "res2 = (df_mbt\n",
    ".assign(race_name = 'total')\n",
    ".query(\"division_name in @divisions\")\n",
    ".groupby(['division_name', 'race_name', 'week_date'])\n",
    ".agg(\n",
    "    n_games = ('match_id', 'count')\n",
    ")\n",
    ".reset_index()\n",
    ".sort_values(\"n_games\", ascending=False)\n",
    ")\n",
    "\n",
    "resx = pd.concat([res, res2], axis = 0)\n",
    "\n",
    "(p9.ggplot(data = resx.query(\"week_date > '2024-01-01'\"), mapping = p9.aes(x = 'week_date', y = 'n_games', \n",
    "group = 'factor(race_name)', color = 'factor(race_name)'))\n",
    "    + p9.geom_point() \n",
    "    + p9.geom_line() \n",
    "    + p9.expand_limits(y=[0,1])\n",
    "    + p9.facet_wrap('race_name', scales = 'free_y', ncol = 3)\n",
    "    + p9.scale_x_datetime(labels = date_format('%b'))   \n",
    "    #+ p9.geom_vline(xintercept = '2021-09-01', color = \"red\")\n",
    "    + p9.ggtitle(\"BB2020 Matches by race\")\n",
    "    + p9.theme(figure_size = (10, 12))\n",
    "    + p9.ylab(\"Number of matches\") \n",
    "    + p9.guides(color = False)\n",
    "    + p9.theme(subplots_adjust={'wspace': 0.25}))\n",
    "    "
   ]
  },
  {
   "cell_type": "markdown",
   "metadata": {},
   "source": [
    "# inducements for a given race, as a function of CTV difference"
   ]
  },
  {
   "cell_type": "code",
   "execution_count": null,
   "metadata": {},
   "outputs": [],
   "source": [
    "divisions = ['Blackbox', 'Competitive', 'League']\n",
    "\n",
    "res = df_mbt.query(\"match_date > '2024-05-28' division_name in @divisions\")\n",
    "\n",
    "match_ids = res['match_id'].values"
   ]
  },
  {
   "cell_type": "code",
   "execution_count": null,
   "metadata": {},
   "outputs": [],
   "source": [
    "res = (inducements.query(\"match_id in @match_ids\")\n",
    ".query('inducements != \"1 bribe\" & star_player == 1')\n",
    ".groupby(['inducements'])\n",
    ".agg(\n",
    "    n_games = ('inducements', 'count')\n",
    ")\n",
    ".reset_index()\n",
    ".sort_values(\"n_games\", ascending=False)\n",
    ")\n",
    "res[1:20]"
   ]
  },
  {
   "cell_type": "markdown",
   "metadata": {},
   "source": [
    "# check out the group structures\n",
    "\n",
    "There is the NAF online Tournaments group. And a french league. And a US league."
   ]
  },
  {
   "cell_type": "code",
   "execution_count": null,
   "metadata": {},
   "outputs": [],
   "source": [
    "res = (df_matches\n",
    "    .loc[(df_matches['week_date'] >= '2023-08-01' ) & (df_matches['week_date'] < '2025-03-25')]\n",
    "    .groupby(['scheduler', 'division_id', 'division_name', 'tournament_id', 'group_id', 'group_name',\n",
    "'tournament_type', 'tournament_progression',\n",
    "'tournament_name', 'tournament_start'], dropna=False)\n",
    "    .agg(        \n",
    "        n_games = ('match_id', \"count\") ,\n",
    "        start_week = ('week_date', min),\n",
    "        end_week = ('week_date', max)\n",
    "    )\n",
    "    .reset_index()\n",
    "    .sort_values(\"start_week\", ascending=True)\n",
    "    ) # this adds the \"group by\" variables back as columns of res\n",
    "\n",
    "res.query('n_games > 50 & division_id == 2')"
   ]
  },
  {
   "cell_type": "code",
   "execution_count": null,
   "metadata": {},
   "outputs": [],
   "source": [
    "res = (df_matches\n",
    "    .loc[(df_matches['week_date'] >= '2023-08-01' ) & (df_matches['week_date'] < '2025-03-25')]\n",
    "    .groupby(['scheduler', 'division_id', 'division_name'], dropna=False)\n",
    "    .agg(        \n",
    "        n_games = ('match_id', \"count\") ,\n",
    "        start_week = ('week_date', min),\n",
    "        end_week = ('week_date', max)\n",
    "    )\n",
    "    .reset_index()\n",
    "    .sort_values(\"start_week\", ascending=True)\n",
    "    ) # this adds the \"group by\" variables back as columns of res\n",
    "\n",
    "res"
   ]
  },
  {
   "cell_type": "code",
   "execution_count": null,
   "metadata": {},
   "outputs": [],
   "source": [
    "# select BB11 Trophy rosters\n",
    "\n",
    "(df_mbt\n",
    "    .query('team_id == 1192881 & scheduler == \"Blackbox\"')\n",
    "    .sort_values('match_date')\n",
    ")"
   ]
  }
 ],
 "metadata": {
  "kernelspec": {
   "display_name": "fumbbl_env",
   "language": "python",
   "name": "python3"
  },
  "language_info": {
   "codemirror_mode": {
    "name": "ipython",
    "version": 3
   },
   "file_extension": ".py",
   "mimetype": "text/x-python",
   "name": "python",
   "nbconvert_exporter": "python",
   "pygments_lexer": "ipython3",
   "version": "3.12.3"
  },
  "orig_nbformat": 4
 },
 "nbformat": 4,
 "nbformat_minor": 2
}
