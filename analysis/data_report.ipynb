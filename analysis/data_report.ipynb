{
 "cells": [
  {
   "cell_type": "markdown",
   "metadata": {},
   "source": [
    "# FUMBBL data report\n",
    "\n",
    "Report a few analyses. with types of matches etc, star player usage etc. \n",
    "\n"
   ]
  },
  {
   "cell_type": "markdown",
   "metadata": {},
   "source": [
    "## Read the FUMBBL data"
   ]
  },
  {
   "cell_type": "code",
   "execution_count": null,
   "metadata": {},
   "outputs": [],
   "source": [
    "import pandas as pd\n",
    "import numpy as np\n",
    "import plotnine as p9\n",
    "\n",
    "from mizani.formatters import date_format\n",
    "\n",
    "# point this to the location of the HDF5 datasets\n",
    "path_to_datasets = '../datasets/current/'\n",
    "\n",
    "# FUMBBL matches\n",
    "target = 'df_matches.csv'\n",
    "df_matches = pd.read_csv(path_to_datasets + target) \n",
    "\n",
    "# FUMBBL matches by team\n",
    "target = 'df_mbt.csv'\n",
    "df_mbt = pd.read_csv(path_to_datasets + target) \n",
    "\n",
    "# FUMBBL inducements\n",
    "target = 'inducements.csv'\n",
    "inducements = pd.read_csv(path_to_datasets + target) \n",
    "\n",
    "pd.set_option('display.max_rows', 500)\n",
    "pd.set_option('display.max_columns', 500)\n"
   ]
  },
  {
   "cell_type": "markdown",
   "metadata": {},
   "source": [
    "# Fix and enrich data"
   ]
  },
  {
   "cell_type": "code",
   "execution_count": null,
   "metadata": {},
   "outputs": [],
   "source": [
    "# FUMBBL quartely volumes\n",
    "target = 'fumbbl_match_counts.csv'\n",
    "fumbbl_volumes = pd.read_csv('../codelists/' + target, sep = ';') \n",
    "fumbbl_volumes['quarter_date'] = fumbbl_volumes['year'].astype(str) + '-Q' + fumbbl_volumes['quarter'].astype(str)\n",
    "fumbbl_volumes['quarter_date'] = pd.to_datetime(fumbbl_volumes['quarter_date'])"
   ]
  },
  {
   "cell_type": "code",
   "execution_count": null,
   "metadata": {},
   "outputs": [],
   "source": [
    "df_matches['match_date'] = pd.to_datetime(df_matches['match_date'])\n",
    "df_matches['week_date'] = pd.to_datetime(df_matches['week_date'])\n",
    "\n",
    "df_matches['quarter'] = df_matches['match_date'].dt.to_period('Q')\n",
    "\n",
    "df_matches['quarter_date'] = pd.PeriodIndex(df_matches['quarter'] , freq='Q').to_timestamp()\n",
    "\n",
    "df_matches.loc[df_matches['scheduler'].str.contains(\"Blackbox\"), 'division_name'] = 'Blackbox'"
   ]
  },
  {
   "cell_type": "code",
   "execution_count": null,
   "metadata": {},
   "outputs": [],
   "source": [
    "df_matches[0:5]"
   ]
  },
  {
   "cell_type": "markdown",
   "metadata": {},
   "source": [
    "# What data do we have? Weekly game volumes\n",
    "\n",
    "\n",
    "Let's see what we've got! The pandas DataFrame `df_matches` contains records for all matches played on FUMBBL from august 2020 onwards.\n",
    "\n",
    "Since we have a proper `datetime` type variable for each week (`week_date`), we can use `pandas` and `plotnine` to plot the weekly game volume as a time series.\n",
    "\n",
    "The introduction of the new **Competitive division** with BB2020 rules is marked by a vertical red line. Also the World cup in Alicante is marked."
   ]
  },
  {
   "cell_type": "code",
   "execution_count": null,
   "metadata": {},
   "outputs": [],
   "source": [
    "res = (df_matches\n",
    "    .loc[(df_matches['week_date'] >= '2020-08-01' ) & (df_matches['week_date'] < '2025-03-25')]\n",
    "    .groupby(['quarter_date']) #  'division_name'\n",
    "    .agg(        \n",
    "        n_games_api = ('match_id', \"count\") \n",
    "    )\n",
    "    .reset_index()) # this adds the \"group by\" variables back as columns of res\n",
    "\n",
    "res = fumbbl_volumes.merge(res, how = 'left', on = 'quarter_date')\n",
    "\n",
    "(p9.ggplot(data = res, mapping = p9.aes(x = 'quarter_date', y = 'n_games'))\n",
    "+ p9.geom_point(size = 3) \n",
    "+ p9.geom_point(mapping = p9.aes(y = 'n_games_api'), color = \"red\")\n",
    "+ p9.geom_line()\n",
    "+ p9.expand_limits(y=[0,2000])\n",
    "+ p9.geom_vline(xintercept = '2021-09-01', color = \"red\")\n",
    "+ p9.geom_vline(xintercept = '2023-09-07', color = \"red\")\n",
    "+ p9.theme(figure_size = (10, 5))\n",
    "+ p9.ggtitle(\"quartely game volume on FUMBBL august 2020 - august 2024\"))"
   ]
  },
  {
   "cell_type": "markdown",
   "metadata": {},
   "source": [
    "next go to divisions, go to weekly resolution. Competitive, Blackbox, \"Other\".\n",
    "Ranked changed to Competitive. Blackbox (BBT 1-5) was off during july 2021/juli 2022.\n",
    "Season 6 started in August 2022."
   ]
  },
  {
   "cell_type": "code",
   "execution_count": null,
   "metadata": {},
   "outputs": [],
   "source": [
    "res = (df_matches\n",
    "    .loc[(df_matches['week_date'] >= '2020-08-01' ) & (df_matches['week_date'] < '2025-03-25')]\n",
    "    .groupby(['quarter_date', 'division_name']) #  'division_name'\n",
    "    .agg(        \n",
    "        n_games_api = ('match_id', \"count\") \n",
    "    )\n",
    "    .reset_index()) # this adds the \"group by\" variables back as columns of res\n",
    "\n",
    "(p9.ggplot(data = res, mapping = p9.aes(x = 'quarter_date', y = 'n_games_api', color = 'division_name'))\n",
    "+ p9.geom_point(size = 3) \n",
    "+ p9.geom_line()\n",
    "+ p9.expand_limits(y=[0,2000])\n",
    "+ p9.geom_vline(xintercept = '2021-09-01', color = \"red\")\n",
    "+ p9.geom_vline(xintercept = '2023-09-07', color = \"black\")\n",
    "+ p9.theme(figure_size = (10, 5))\n",
    "+ p9.ggtitle(\"quartely game volume on FUMBBL august 2020 - august 2024\"))"
   ]
  },
  {
   "cell_type": "markdown",
   "metadata": {},
   "source": [
    "# Star player usage\n",
    "\n",
    "The blackbox trophy is a lengthy competitive division meta event. Coaches select a squad of 4 unique teams with a budget of 7 points.\n"
   ]
  },
  {
   "cell_type": "code",
   "execution_count": null,
   "metadata": {},
   "outputs": [],
   "source": [
    "divisions = ['Blackbox', 'Competitive', 'Ranked', 'League']\n",
    "\n",
    "res = (df_matches\n",
    ".query(\"division_name in @divisions\")\n",
    ".groupby(['division_name', 'week_date'])\n",
    ".agg(\n",
    "    n_games = ('match_id', 'count'),\n",
    "    perc_sp = ('has_sp', 'mean')\n",
    ")\n",
    ".reset_index()\n",
    ".sort_values(\"n_games\", ascending=False)\n",
    ")\n",
    "\n",
    "(p9.ggplot(data = res.query(\"n_games > 30\"), mapping = p9.aes(x = 'week_date', y = 'perc_sp*100', \n",
    "group = 'factor(division_name)', color = 'factor(division_name)'))\n",
    "    + p9.geom_point(p9.aes(size = 'n_games')) \n",
    "    + p9.expand_limits(y=[0,1])\n",
    "    + p9.scale_size_area()\n",
    "    + p9.geom_vline(xintercept = '2021-09-01', color = \"red\")\n",
    "    + p9.geom_vline(xintercept = '2022-08-01', color = \"black\") # BBT6\n",
    "    + p9.geom_vline(xintercept = '2023-01-01', color = \"black\")\n",
    "    + p9.geom_vline(xintercept = '2023-05-01', color = \"black\")\n",
    "    + p9.geom_vline(xintercept = '2023-09-01', color = \"black\")\n",
    "    + p9.geom_vline(xintercept = '2024-01-01', color = \"black\")\n",
    "    + p9.geom_vline(xintercept = '2024-05-01', color = \"black\") # BBT10\n",
    "    + p9.ggtitle(\"Star player usage over time, by division/league\")\n",
    "    + p9.theme(figure_size = (10, 6))\n",
    "    + p9.ylab(\"% matches with at least one Star Player\"))"
   ]
  },
  {
   "cell_type": "markdown",
   "metadata": {},
   "source": [
    "# Star Players"
   ]
  },
  {
   "cell_type": "code",
   "execution_count": null,
   "metadata": {},
   "outputs": [],
   "source": [
    "(inducements\n",
    ".query('star_player == 1')\n",
    ".groupby('inducements')\n",
    ".agg( n_teams = ('star_player', 'count'))\n",
    ".reset_index()\n",
    ".sort_values(\"n_teams\", ascending=False)\n",
    ")"
   ]
  },
  {
   "cell_type": "markdown",
   "metadata": {},
   "source": [
    "# which race scores the most touchdowns and have them scored against them"
   ]
  },
  {
   "cell_type": "code",
   "execution_count": null,
   "metadata": {},
   "outputs": [],
   "source": [
    "divisions = ['Competitive']\n",
    "\n",
    "tv_bins = ['1.1M', '1.4M', '1.7M']\n",
    "\n",
    "res = (df_mbt[df_mbt['division_name'].isin(divisions)]\n",
    "    .loc[df_mbt['tv_bin'].isin(tv_bins)]\n",
    "    .query(\"mirror_match == 0 & has_sp == 0 & tv_bin in @tv_bins & division_name in @divisions\")\n",
    "    .groupby(['race_name', 'tv_bin'])\n",
    "    .agg(        \n",
    "        avg_td = ('team_score', \"mean\"),\n",
    "        avg_away_td = ('away_team_score', \"mean\"),\n",
    "        n_games = ('race_name', \"count\")\n",
    "    )\n",
    "    .sort_values( 'n_games', ascending = False)\n",
    "    .reset_index()) # this adds the group by variables (now index) as a column\n",
    "\n",
    "res = res.dropna()\n",
    "\n",
    "(p9.ggplot(data = res.query('n_games > 100'), \n",
    "            mapping = p9.aes(y = 'reorder(race_name, avg_away_td)', x = 'avg_away_td', \n",
    "                            size = 'n_games', group = 'factor(tv_bin)', \n",
    "                            color = 'factor(tv_bin)'))\n",
    "    + p9.geom_point()\n",
    "    + p9.scale_size_area() \n",
    "    + p9.ggtitle(\"Competitive Division: average TD against per game\"))"
   ]
  },
  {
   "cell_type": "code",
   "execution_count": null,
   "metadata": {},
   "outputs": [],
   "source": [
    "(p9.ggplot(data = res.query('n_games > 100'), \n",
    "            mapping = p9.aes(y = 'reorder(race_name, avg_td)', x = 'avg_td', \n",
    "                            size = 'n_games', group = 'factor(tv_bin)', \n",
    "                            color = 'factor(tv_bin)'))\n",
    "    + p9.geom_point()\n",
    "    + p9.scale_size_area() \n",
    "    + p9.ggtitle(\"Competitive Division: average TD per game\"))"
   ]
  },
  {
   "cell_type": "markdown",
   "metadata": {},
   "source": [
    "# star players over time"
   ]
  },
  {
   "cell_type": "code",
   "execution_count": null,
   "metadata": {},
   "outputs": [],
   "source": [
    "# top 10 star players in BB2016 league\n",
    "top10 = (inducements\n",
    ".merge(df_matches[['match_id', 'division_name', 'week_date']], how='left', on='match_id') # add division to inducements\n",
    ".query(\"star_player == 1 and division_name == 'League'\") # filter \n",
    ".groupby(['inducements'])\n",
    ".agg(\n",
    "    n_games = ('match_id', 'count')\n",
    ")\n",
    ".reset_index()\n",
    ".sort_values('n_games',ascending = False)\n",
    ".head(10))\n",
    "\n",
    "top10"
   ]
  },
  {
   "cell_type": "code",
   "execution_count": null,
   "metadata": {},
   "outputs": [],
   "source": [
    "# top 10 star players in BB2020\n",
    "top10 = (inducements\n",
    ".merge(df_matches[['match_id', 'division_name', 'week_date']], how='left', on='match_id') # add division to inducements\n",
    ".query(\"star_player == 1 and division_name == 'Competitive'\") # filter \n",
    ".groupby(['inducements'])\n",
    ".agg(\n",
    "    n_games = ('match_id', 'count')\n",
    ")\n",
    ".reset_index()\n",
    ".sort_values('n_games',ascending = False)\n",
    ".head(10)['inducements'])\n",
    "\n",
    "top10"
   ]
  },
  {
   "cell_type": "code",
   "execution_count": null,
   "metadata": {},
   "outputs": [],
   "source": [
    "res = (inducements\n",
    ".merge(df_matches[['match_id', 'division_name', 'week_date']], how='left', on='match_id')\n",
    ".query(\"star_player == 1 and division_name == 'Competitive' and inducements in @top10\")\n",
    ".groupby(['inducements', 'week_date'])\n",
    ".agg(\n",
    "    n_games = ('match_id', 'count')\n",
    ")\n",
    ".reset_index())\n",
    "\n",
    "res2 = (inducements\n",
    ".merge(df_matches[['match_id', 'division_name', 'week_date']], how='left', on='match_id')\n",
    ".assign(inducements = 'total')\n",
    ".query(\"star_player == 1 and division_name == 'Competitive'\")\n",
    ".groupby(['inducements', 'week_date'])\n",
    ".agg(\n",
    "    n_games = ('match_id', 'count')\n",
    ")\n",
    ".reset_index())\n",
    "\n",
    "resx = pd.concat([res, res2], axis = 0)"
   ]
  },
  {
   "cell_type": "code",
   "execution_count": null,
   "metadata": {},
   "outputs": [],
   "source": [
    "label_week = '2022-05-30'\n",
    "(p9.ggplot(data = resx.query(\"week_date < '2025-06-01'\"), mapping = p9.aes(x = 'week_date', y = 'n_games', \n",
    "group = 'factor(inducements)', color = 'factor(inducements)'))\n",
    "    + p9.geom_point() \n",
    "    + p9.geom_line() \n",
    "    + p9.expand_limits(y=[0,1])\n",
    "    #+ p9.scale_size_area()\n",
    "    + p9.geom_vline(xintercept = '2021-09-01', color = \"red\")\n",
    "    + p9.geom_vline(xintercept = '2022-11-01', color = \"red\")\n",
    "    + p9.geom_vline(xintercept = '2023-04-25', color = \"blue\") # mega stars no longer available for hire\n",
    "    + p9.geom_vline(xintercept = '2023-05-28', color = \"red\")\n",
    "    + p9.geom_vline(xintercept = '2024-05-28', color = \"red\")\n",
    "    + p9.ggtitle(\"Star player usage over time BB2020 FUMBBL\")\n",
    "    + p9.theme(figure_size = (10, 6))\n",
    "    + p9.ylab(\"matches\")\n",
    "    #+ p9.geom_text(data = resx.query(\"week_date == @label_week\"), mapping = p9.aes(label = 'inducements'), nudge_x = 7)\n",
    "    #+ p9.guides(color = False)\n",
    ")"
   ]
  },
  {
   "cell_type": "markdown",
   "metadata": {},
   "source": [
    "Now we see where the big increases come from: the introduction of Akhorne in november 2011, and the introduction of Bomber Dribblesnot and Fungus the Loon in march 2022."
   ]
  },
  {
   "cell_type": "markdown",
   "metadata": {},
   "source": [
    "# BB2020 game volume by race"
   ]
  },
  {
   "cell_type": "code",
   "execution_count": null,
   "metadata": {},
   "outputs": [],
   "source": [
    "# top 26 most popular races in FUMBBL BB2020\n",
    "top10 = (df_mbt\n",
    ".query(\"division_name == 'Competitive'\") # filter \n",
    ".groupby(['race_name'])\n",
    ".agg(\n",
    "    n_games = ('match_id', 'count')\n",
    ")\n",
    ".reset_index()\n",
    ".sort_values('n_games',ascending = False)\n",
    ".head(30)['race_name'])\n",
    "\n",
    "\n",
    "\n",
    "divisions = [ 'Competitive']\n",
    "\n",
    "res = (df_mbt\n",
    ".query(\"division_name in @divisions and race_name in @top10\")\n",
    ".groupby(['division_name', 'race_name', 'week_date'])\n",
    ".agg(\n",
    "    n_games = ('match_id', 'count')\n",
    ")\n",
    ".reset_index()\n",
    ".sort_values(\"n_games\", ascending=False)\n",
    ")\n",
    "\n",
    "res2 = (df_mbt\n",
    ".assign(race_name = 'total')\n",
    ".query(\"division_name in @divisions\")\n",
    ".groupby(['division_name', 'race_name', 'week_date'])\n",
    ".agg(\n",
    "    n_games = ('match_id', 'count')\n",
    ")\n",
    ".reset_index()\n",
    ".sort_values(\"n_games\", ascending=False)\n",
    ")\n",
    "\n",
    "resx = pd.concat([res, res2], axis = 0)\n",
    "\n",
    "(p9.ggplot(data = resx.query(\"week_date < '2024-06-01'\"), mapping = p9.aes(x = 'week_date', y = 'n_games', \n",
    "group = 'factor(race_name)', color = 'factor(race_name)'))\n",
    "    + p9.geom_point() \n",
    "    + p9.geom_line() \n",
    "    + p9.expand_limits(y=[0,1])\n",
    "    + p9.facet_wrap('race_name', scales = 'free_y', ncol = 3)\n",
    "    + p9.scale_x_datetime(labels = date_format('%b'))   \n",
    "    + p9.geom_vline(xintercept = '2021-09-01', color = \"red\")\n",
    "    + p9.ggtitle(\"BB2020 Matches by race\")\n",
    "    + p9.theme(figure_size = (10, 12))\n",
    "    + p9.ylab(\"Number of matches\") \n",
    "    + p9.guides(color = False)\n",
    "    + p9.theme(subplots_adjust={'wspace': 0.25}))\n",
    "    "
   ]
  },
  {
   "cell_type": "markdown",
   "metadata": {},
   "source": [
    "# inducements for a given race, as a function of CTV difference"
   ]
  },
  {
   "cell_type": "code",
   "execution_count": null,
   "metadata": {},
   "outputs": [],
   "source": [
    "df_mbt.info()"
   ]
  },
  {
   "cell_type": "code",
   "execution_count": null,
   "metadata": {},
   "outputs": [],
   "source": [
    "\n",
    "\n",
    "res = df_mbt.query(\"tv_diff < 40 & race_name == 'Gnome' & year > 2023\")\n",
    "\n",
    "res"
   ]
  },
  {
   "cell_type": "code",
   "execution_count": null,
   "metadata": {},
   "outputs": [],
   "source": [
    "inducements.query(\"match_id == 4562639\")"
   ]
  },
  {
   "cell_type": "code",
   "execution_count": null,
   "metadata": {},
   "outputs": [],
   "source": [
    "df_mbt.query(\"match_id == 4562639\")"
   ]
  },
  {
   "cell_type": "code",
   "execution_count": null,
   "metadata": {},
   "outputs": [],
   "source": [
    "PM FIX TV diff"
   ]
  }
 ],
 "metadata": {
  "interpreter": {
   "hash": "50276fd1884268afe39607052f22ef19b84d915691d702a5c7e9a67a09867105"
  },
  "kernelspec": {
   "display_name": "Python 3.6.9 ('requests_env')",
   "language": "python",
   "name": "python3"
  },
  "language_info": {
   "codemirror_mode": {
    "name": "ipython",
    "version": 3
   },
   "file_extension": ".py",
   "mimetype": "text/x-python",
   "name": "python",
   "nbconvert_exporter": "python",
   "pygments_lexer": "ipython3",
   "version": "3.6.9"
  },
  "orig_nbformat": 4
 },
 "nbformat": 4,
 "nbformat_minor": 2
}
