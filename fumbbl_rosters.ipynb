{
 "cells": [
  {
   "cell_type": "markdown",
   "metadata": {},
   "source": [
    "## New analysis goal: fixed skill sets from tourneys\n",
    "\n",
    "Use df_matches to identify the group ids that use competitive rulesets.\n",
    "This gives us the team ids we need.\n",
    "Then we can get the team roster using https://fumbbl.com/api/team/get/1102662\n",
    "we need the player ids here.\n",
    "\n",
    "and the chosen skills using https://fumbbl.com/api/team/getOptions/1102662\n",
    "this is a string of player ids, with skill ids.\n",
    "\n",
    "through https://fumbbl.com/api/skill/list we can get a list of skills.\n",
    "https://fumbbl.com/api/skill/list/2020 and this is the 2020 list.\n",
    "\n",
    "World cup training: 9941 (dec 2020), 2 matches in dec 2020 using bb2016, then in okt 2021 for real. 429 matches.\n",
    "SUper league: 15615\n",
    "templars road to WC: 11605\n",
    "entrainment tournois: 12879\n",
    "NAF online tournaments : 9298\n",
    "Tacklezone: 12013\n",
    "Doppelbock: 13198\n",
    "Eurobowl practice league: 15643\n",
    "Eurobowl 2020 training: 12087 (eurobowl warsaw)"
   ]
  },
  {
   "cell_type": "code",
   "execution_count": null,
   "metadata": {},
   "outputs": [],
   "source": [
    "import pandas as pd\n",
    "import numpy as np\n",
    "import plotnine as p9\n",
    "import requests\n",
    "\n",
    "from mizani.formatters import date_format\n",
    "\n",
    "# point this to the location of the HDF5 datasets\n",
    "path_to_datasets = 'datasets/current/'\n",
    "\n",
    "# FUMBBL matches\n",
    "target = 'df_matches.h5'\n",
    "df_matches = pd.read_hdf(path_to_datasets + target) \n",
    "\n"
   ]
  },
  {
   "cell_type": "code",
   "execution_count": null,
   "metadata": {},
   "outputs": [],
   "source": [
    "# FUMBBL inducements\n",
    "target = 'inducements.h5'\n",
    "inducements = pd.read_hdf(path_to_datasets + target) "
   ]
  },
  {
   "cell_type": "code",
   "execution_count": null,
   "metadata": {},
   "outputs": [],
   "source": [
    "df_matches.query('match_id == 4257923')['team2_id']"
   ]
  },
  {
   "cell_type": "code",
   "execution_count": null,
   "metadata": {},
   "outputs": [],
   "source": [
    "inducements.query('match_id == 4335359')"
   ]
  },
  {
   "cell_type": "code",
   "execution_count": null,
   "metadata": {},
   "outputs": [],
   "source": [
    "#fetch skill code list\n",
    "%run write_json_file.py"
   ]
  },
  {
   "cell_type": "code",
   "execution_count": null,
   "metadata": {},
   "outputs": [],
   "source": [
    "api_string = \"https://fumbbl.com/api/skill/list/2020\"\n",
    "\n",
    "skill_list = requests.get(api_string)\n",
    "# PM here save JSON as file\n",
    "skill_list = skill_list.json()\n",
    "\n",
    "write_json_file(skill_list, fname = \"skill_list_bb2020.json\")"
   ]
  },
  {
   "cell_type": "code",
   "execution_count": null,
   "metadata": {},
   "outputs": [],
   "source": [
    "team_id = 1050197 # test malta necros\n",
    "\n",
    "api_string = \"https://fumbbl.com/api/team/get/\" + str(team_id)\n",
    "\n",
    "team = requests.get(api_string)\n",
    "# PM here save JSON as file\n",
    "team = team.json()\n",
    "\n",
    "write_json_file(team, fname = str(team_id) + \".json\")\n",
    "\n",
    "api_string = \"https://fumbbl.com/api/team/getOptions/\" + str(team_id)\n",
    "\n",
    "r = requests.get(api_string)\n",
    "r = r.json()\n",
    "# the following row is required to dodge this bug #203:\n",
    "r['tournamentSkills'] = json.loads(r['tournamentSkills'])\n",
    "\n",
    "write_json_file(r, fname = str(team_id) + \"_skills.json\")"
   ]
  },
  {
   "cell_type": "markdown",
   "metadata": {},
   "source": [
    "https://fumbbl.com/api/ruleset/get/188\n",
    "contains info about gold and skills.\n",
    "\n",
    "From the roster id we can infer the bb version."
   ]
  },
  {
   "cell_type": "code",
   "execution_count": null,
   "metadata": {},
   "outputs": [],
   "source": [
    "df_matches.query('league == 9941 and match_date > \"2021-09-20\"')\n",
    "#df_matches.query('league == 9941')['team2_id']"
   ]
  },
  {
   "cell_type": "code",
   "execution_count": null,
   "metadata": {},
   "outputs": [],
   "source": [
    "team_id = 1081222\n"
   ]
  }
 ],
 "metadata": {
  "kernelspec": {
   "display_name": "Python 3.6.9 ('requests_env')",
   "language": "python",
   "name": "python3"
  },
  "language_info": {
   "codemirror_mode": {
    "name": "ipython",
    "version": 3
   },
   "file_extension": ".py",
   "mimetype": "text/x-python",
   "name": "python",
   "nbconvert_exporter": "python",
   "pygments_lexer": "ipython3",
   "version": "3.6.9"
  },
  "orig_nbformat": 4,
  "vscode": {
   "interpreter": {
    "hash": "50276fd1884268afe39607052f22ef19b84d915691d702a5c7e9a67a09867105"
   }
  }
 },
 "nbformat": 4,
 "nbformat_minor": 2
}
