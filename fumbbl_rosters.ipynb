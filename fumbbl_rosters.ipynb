{
 "cells": [
  {
   "cell_type": "markdown",
   "metadata": {},
   "source": [
    "## New analysis goal: fixed skill sets from tourneys\n",
    "\n",
    "Use df_matches to identify the group ids that use competitive rulesets.\n",
    "This gives us the team ids we need.\n",
    "Then we can get the team roster using https://fumbbl.com/api/team/get/1102662\n",
    "we need the player ids here.\n",
    "\n",
    "and the chosen skills using https://fumbbl.com/api/team/getOptions/1102662\n",
    "this is a string of player ids, with skill ids.\n",
    "\n",
    "through https://fumbbl.com/api/skill/list we can get a list of skills.\n",
    "https://fumbbl.com/api/skill/list/2020 and this is the 2020 list.\n",
    "\n",
    "* World cup training: 9941 (dec 2020), 2 matches in dec 2020 using bb2016, then in okt 2021 for real. 429 matches.\n",
    "* SUper league: 15615\n",
    "* templars road to WC: 11605\n",
    "* entrainment tournois: 12879\n",
    "* NAF online tournaments : 9298\n",
    "* Tacklezone: 12013\n",
    "* Doppelbock: 13198\n",
    "* Eurobowl practice league: 15643\n",
    "* Eurobowl 2020 training: 12087 (eurobowl warsaw)"
   ]
  },
  {
   "cell_type": "code",
   "execution_count": null,
   "metadata": {},
   "outputs": [],
   "source": [
    "import pandas as pd\n",
    "import numpy as np\n",
    "import plotnine as p9\n",
    "import requests\n",
    "\n",
    "from mizani.formatters import date_format\n",
    "\n",
    "# point this to the location of the HDF5 datasets\n",
    "path_to_datasets = 'datasets/current/'\n",
    "\n",
    "# FUMBBL matches\n",
    "target = 'df_matches.h5'\n",
    "df_matches = pd.read_hdf(path_to_datasets + target) \n",
    "\n"
   ]
  },
  {
   "cell_type": "code",
   "execution_count": null,
   "metadata": {},
   "outputs": [],
   "source": [
    "# FUMBBL inducements\n",
    "target = 'inducements.h5'\n",
    "inducements = pd.read_hdf(path_to_datasets + target) \n",
    "\n",
    "# FUMBBL skills\n",
    "target = 'df_skills.h5'\n",
    "df_skills = pd.read_hdf(path_to_datasets + target) "
   ]
  },
  {
   "cell_type": "code",
   "execution_count": null,
   "metadata": {},
   "outputs": [],
   "source": [
    "inducements.query('match_id == 4335359')"
   ]
  },
  {
   "cell_type": "code",
   "execution_count": null,
   "metadata": {},
   "outputs": [],
   "source": [
    "%run read_json_file.py\n",
    "%run write_json_file.py\n"
   ]
  },
  {
   "cell_type": "markdown",
   "metadata": {},
   "source": [
    "https://fumbbl.com/api/ruleset/get/188\n",
    "contains info about gold and skills.\n",
    "\n",
    "From the roster id we can infer the bb version."
   ]
  },
  {
   "cell_type": "markdown",
   "metadata": {},
   "source": [
    "# Gather Team roster info\n",
    "\n",
    "Need a combi of Team and Match to get the inducements for the roster"
   ]
  },
  {
   "cell_type": "code",
   "execution_count": null,
   "metadata": {},
   "outputs": [],
   "source": [
    "df_matches.query('tournament_id == 58323')['match_id'].max()"
   ]
  },
  {
   "cell_type": "code",
   "execution_count": null,
   "metadata": {},
   "outputs": [],
   "source": [
    "df_matches.query('match_id == 4418354')['team2_id']"
   ]
  },
  {
   "cell_type": "code",
   "execution_count": null,
   "metadata": {},
   "outputs": [],
   "source": [
    "match_id, team_id = [4337210, 1050197] # 1150\n",
    "match_id, team_id = [4261575, 1000657] # 880 no skills + SP\n",
    "match_id, team_id = [4261575, 1000538] # 780no skills + SP\n",
    "match_id, team_id = [4335316, 1050180] # 875 w skills + SP\n",
    "match_id, team_id = [4339241,1052367] # 810 w skills + SP\n",
    "match_id, team_id = [4377476,1075377] # 925 w skills + SP\t\n",
    "match_id, team_id = [4378237, 1075893] # 820 w skills, SP and bribe\n",
    "match_id, team_id = [4381569, 1078092]\n",
    "match_id, team_id = [4418354, 1093446]\n",
    "match_id, team_id = [4418354, 1094174]\n",
    "match_id, team_id = [4246968, 1006235] # 2020 too old no skill in team yet\n",
    "match_id, team_id = [4369687, 1067847] # 2022 has skills\n",
    "match_id, team_id = [4343656, 1046931] # nov 2021 too old\n",
    "match_id, team_id = [4243298, 997766] #   2020 eurobowl warsaw practice, bb2016, heeft 2016 skill list nodig\n"
   ]
  },
  {
   "cell_type": "code",
   "execution_count": null,
   "metadata": {},
   "outputs": [],
   "source": [
    "get_team_roster(4243298, 997766, df_skills, df_matches, inducements)"
   ]
  },
  {
   "cell_type": "code",
   "execution_count": null,
   "metadata": {},
   "outputs": [],
   "source": [
    "df_rosters = get_team_roster(4378237, 1075893, df_skills, df_matches, inducements)\n",
    "\n",
    "df_rosters"
   ]
  }
 ],
 "metadata": {
  "kernelspec": {
   "display_name": "Python 3.6.9 ('requests_env')",
   "language": "python",
   "name": "python3"
  },
  "language_info": {
   "codemirror_mode": {
    "name": "ipython",
    "version": 3
   },
   "file_extension": ".py",
   "mimetype": "text/x-python",
   "name": "python",
   "nbconvert_exporter": "python",
   "pygments_lexer": "ipython3",
   "version": "3.6.9"
  },
  "orig_nbformat": 4,
  "vscode": {
   "interpreter": {
    "hash": "50276fd1884268afe39607052f22ef19b84d915691d702a5c7e9a67a09867105"
   }
  }
 },
 "nbformat": 4,
 "nbformat_minor": 2
}
