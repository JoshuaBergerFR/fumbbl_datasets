{
 "cells": [
  {
   "cell_type": "markdown",
   "metadata": {},
   "source": [
    "## New analysis goal: fixed skill sets from tourneys\n",
    "\n",
    "Use df_matches to identify the group ids that use competitive rulesets.\n",
    "This gives us the team ids we need.\n",
    "Then we can get the team roster using https://fumbbl.com/api/team/get/1102662\n",
    "we need the player ids here.\n",
    "\n",
    "and the chosen skills using https://fumbbl.com/api/team/getOptions/1102662\n",
    "this is a string of player ids, with skill ids.\n",
    "\n",
    "through https://fumbbl.com/api/skill/list we can get a list of skills.\n",
    "https://fumbbl.com/api/skill/list/2020 and this is the 2020 list.\n",
    "\n",
    "* World cup training: 9941 (dec 2020), 2 matches in dec 2020 using bb2016, then in okt 2021 for real. 429 matches.\n",
    "* SUper league: 15615\n",
    "* templars road to WC: 11605\n",
    "* entrainment tournois: 12879\n",
    "* NAF online tournaments : 9298\n",
    "* Tacklezone: 12013\n",
    "* Doppelbock: 13198\n",
    "* Eurobowl practice league: 15643\n",
    "* Eurobowl 2020 training: 12087 (eurobowl warsaw)"
   ]
  },
  {
   "cell_type": "code",
   "execution_count": null,
   "metadata": {},
   "outputs": [],
   "source": [
    "import pandas as pd\n",
    "import numpy as np\n",
    "import plotnine as p9\n",
    "import requests\n",
    "\n",
    "from mizani.formatters import date_format\n",
    "\n",
    "# point this to the location of the HDF5 datasets\n",
    "path_to_datasets = 'datasets/current/'\n",
    "\n",
    "# FUMBBL matches\n",
    "target = 'df_matches.h5'\n",
    "df_matches = pd.read_hdf(path_to_datasets + target) \n",
    "\n"
   ]
  },
  {
   "cell_type": "code",
   "execution_count": null,
   "metadata": {},
   "outputs": [],
   "source": [
    "# FUMBBL inducements\n",
    "target = 'inducements.h5'\n",
    "inducements = pd.read_hdf(path_to_datasets + target) \n",
    "\n",
    "# FUMBBL skills\n",
    "target = 'df_skills.h5'\n",
    "df_skills = pd.read_hdf(path_to_datasets + target) "
   ]
  },
  {
   "cell_type": "code",
   "execution_count": null,
   "metadata": {},
   "outputs": [],
   "source": [
    "inducements.query('match_id == 4335359')"
   ]
  },
  {
   "cell_type": "code",
   "execution_count": null,
   "metadata": {},
   "outputs": [],
   "source": [
    "%run read_json_file.py\n",
    "%run write_json_file.py\n"
   ]
  },
  {
   "cell_type": "markdown",
   "metadata": {},
   "source": [
    "https://fumbbl.com/api/ruleset/get/188\n",
    "contains info about gold and skills.\n",
    "\n",
    "From the roster id we can infer the bb version."
   ]
  },
  {
   "cell_type": "markdown",
   "metadata": {},
   "source": [
    "# Gather Team roster info\n",
    "\n",
    "Need a combi of Team and Match to get the inducements for the roster"
   ]
  },
  {
   "cell_type": "code",
   "execution_count": null,
   "metadata": {},
   "outputs": [],
   "source": [
    "# NAF eurobowl -- EB 2022 - Group 2\n",
    "\n",
    "team_ids = df_matches.query('tournament_id == 58323')['team1_id'].tolist() + df_matches.query('tournament_id == 58323')['team2_id'].tolist()\n",
    "\n",
    "team_ids = list(set(team_ids))"
   ]
  },
  {
   "cell_type": "code",
   "execution_count": null,
   "metadata": {},
   "outputs": [],
   "source": [
    "# how many teams?\n",
    "len(team_ids)"
   ]
  },
  {
   "cell_type": "code",
   "execution_count": null,
   "metadata": {},
   "outputs": [],
   "source": [
    "%run get_team_roster.py\n"
   ]
  },
  {
   "cell_type": "code",
   "execution_count": null,
   "metadata": {},
   "outputs": [],
   "source": [
    "df_rosters = get_team_roster(team_ids[0], df_skills, df_matches, inducements)\n",
    "\n",
    "team_ids.pop(0)\n",
    "\n",
    "for team_id in team_ids:\n",
    "    df_rosters_tmp = get_team_roster(team_id, df_skills, df_matches, inducements)\n",
    "    df_rosters = pd.concat([df_rosters, df_rosters_tmp], ignore_index=True)"
   ]
  },
  {
   "cell_type": "code",
   "execution_count": null,
   "metadata": {},
   "outputs": [],
   "source": [
    "df_rosters"
   ]
  },
  {
   "cell_type": "code",
   "execution_count": null,
   "metadata": {},
   "outputs": [],
   "source": [
    "target = 'datasets/current/df_rosters'\n",
    "\n",
    "#df_rosters.to_hdf(target + '.h5', key='df_rosters', mode='w', format = 't',  complevel = 9)\n",
    "df_rosters.to_csv(target + '.csv')\n",
    "\n",
    "# PM add coach and tournament id to roster "
   ]
  }
 ],
 "metadata": {
  "kernelspec": {
   "display_name": "Python 3.6.9 ('requests_env')",
   "language": "python",
   "name": "python3"
  },
  "language_info": {
   "codemirror_mode": {
    "name": "ipython",
    "version": 3
   },
   "file_extension": ".py",
   "mimetype": "text/x-python",
   "name": "python",
   "nbconvert_exporter": "python",
   "pygments_lexer": "ipython3",
   "version": "3.6.9"
  },
  "orig_nbformat": 4,
  "vscode": {
   "interpreter": {
    "hash": "50276fd1884268afe39607052f22ef19b84d915691d702a5c7e9a67a09867105"
   }
  }
 },
 "nbformat": 4,
 "nbformat_minor": 2
}
